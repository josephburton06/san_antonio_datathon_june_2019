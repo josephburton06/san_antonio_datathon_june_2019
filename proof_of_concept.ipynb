{
 "cells": [
  {
   "cell_type": "markdown",
   "metadata": {},
   "source": [
    "### This is an attempt to create a model, using synthetic data, to show how the flow of waste through a pipe can be monitored to predict when it will clog.  We will only use 2 features:\n",
    "\n",
    "### Our X-axis will be the percentage of the amount of waste that can go through the pipe.  Each pipe will start at 100%, let's imagine that this particular size pipe has a maximum of 50 gallons per minute that can flow through it.  As we more forward in time, let's say 200 days, the pipe may only be at 25 gallons per minute, or 50%.  As a precaution, we'd like to focus on pipes that go under 20% of maximum allowable flow so these can be cleaned before they clog and cause an SSO.\n",
    "\n",
    "### Our Y-axis, and y-variable, will be the number of days.  We will predict the number of days that will occur before a particular pipe is expected to dip below 20% of its maximum flow."
   ]
  },
  {
   "cell_type": "markdown",
   "metadata": {},
   "source": [
    "### Let's first create a few dataframes.  Each will be different sizes to gauge how well the models can predict."
   ]
  },
  {
   "cell_type": "code",
   "execution_count": 1,
   "metadata": {},
   "outputs": [],
   "source": [
    "import numpy as np\n",
    "import pandas as pd\n",
    "\n",
    "import matplotlib.pyplot as plt\n",
    "import matplotlib\n",
    "import seaborn as sns\n",
    "\n",
    "import warnings\n",
    "warnings.filterwarnings(\"ignore\")\n",
    "\n",
    "import proof_of_concept_helpers\n",
    "from proof_of_concept_helpers import create_pipe_data\n",
    "from proof_of_concept_helpers import poly_regression\n",
    "\n",
    "# Exploring\n",
    "import scipy.stats as stats\n",
    "\n",
    "# Modeling\n",
    "import statsmodels.api as sm\n",
    "\n",
    "from scipy.stats import pearsonr\n",
    "\n",
    "from sklearn.model_selection import train_test_split\n",
    "from sklearn.preprocessing import PolynomialFeatures\n",
    "from sklearn.linear_model import LinearRegression\n",
    "from sklearn.metrics import mean_squared_error, r2_score, mean_absolute_error, median_absolute_error"
   ]
  },
  {
   "cell_type": "code",
   "execution_count": 2,
   "metadata": {},
   "outputs": [],
   "source": [
    "pipe_1 = create_pipe_data(104)"
   ]
  },
  {
   "cell_type": "code",
   "execution_count": 3,
   "metadata": {},
   "outputs": [
    {
     "data": {
      "text/html": [
       "<div>\n",
       "<style scoped>\n",
       "    .dataframe tbody tr th:only-of-type {\n",
       "        vertical-align: middle;\n",
       "    }\n",
       "\n",
       "    .dataframe tbody tr th {\n",
       "        vertical-align: top;\n",
       "    }\n",
       "\n",
       "    .dataframe thead th {\n",
       "        text-align: right;\n",
       "    }\n",
       "</style>\n",
       "<table border=\"1\" class=\"dataframe\">\n",
       "  <thead>\n",
       "    <tr style=\"text-align: right;\">\n",
       "      <th></th>\n",
       "      <th>percent_flow</th>\n",
       "      <th>days</th>\n",
       "    </tr>\n",
       "  </thead>\n",
       "  <tbody>\n",
       "    <tr>\n",
       "      <th>0</th>\n",
       "      <td>100</td>\n",
       "      <td>1</td>\n",
       "    </tr>\n",
       "    <tr>\n",
       "      <th>1</th>\n",
       "      <td>99</td>\n",
       "      <td>2</td>\n",
       "    </tr>\n",
       "    <tr>\n",
       "      <th>2</th>\n",
       "      <td>97</td>\n",
       "      <td>3</td>\n",
       "    </tr>\n",
       "    <tr>\n",
       "      <th>3</th>\n",
       "      <td>97</td>\n",
       "      <td>4</td>\n",
       "    </tr>\n",
       "    <tr>\n",
       "      <th>4</th>\n",
       "      <td>97</td>\n",
       "      <td>5</td>\n",
       "    </tr>\n",
       "  </tbody>\n",
       "</table>\n",
       "</div>"
      ],
      "text/plain": [
       "   percent_flow  days\n",
       "0           100     1\n",
       "1            99     2\n",
       "2            97     3\n",
       "3            97     4\n",
       "4            97     5"
      ]
     },
     "execution_count": 3,
     "metadata": {},
     "output_type": "execute_result"
    }
   ],
   "source": [
    "pipe_1.head()"
   ]
  },
  {
   "cell_type": "code",
   "execution_count": 4,
   "metadata": {},
   "outputs": [
    {
     "data": {
      "text/html": [
       "<div>\n",
       "<style scoped>\n",
       "    .dataframe tbody tr th:only-of-type {\n",
       "        vertical-align: middle;\n",
       "    }\n",
       "\n",
       "    .dataframe tbody tr th {\n",
       "        vertical-align: top;\n",
       "    }\n",
       "\n",
       "    .dataframe thead th {\n",
       "        text-align: right;\n",
       "    }\n",
       "</style>\n",
       "<table border=\"1\" class=\"dataframe\">\n",
       "  <thead>\n",
       "    <tr style=\"text-align: right;\">\n",
       "      <th></th>\n",
       "      <th>percent_flow</th>\n",
       "      <th>days</th>\n",
       "    </tr>\n",
       "  </thead>\n",
       "  <tbody>\n",
       "    <tr>\n",
       "      <th>99</th>\n",
       "      <td>21</td>\n",
       "      <td>100</td>\n",
       "    </tr>\n",
       "    <tr>\n",
       "      <th>100</th>\n",
       "      <td>21</td>\n",
       "      <td>101</td>\n",
       "    </tr>\n",
       "    <tr>\n",
       "      <th>101</th>\n",
       "      <td>21</td>\n",
       "      <td>102</td>\n",
       "    </tr>\n",
       "    <tr>\n",
       "      <th>102</th>\n",
       "      <td>19</td>\n",
       "      <td>103</td>\n",
       "    </tr>\n",
       "    <tr>\n",
       "      <th>103</th>\n",
       "      <td>19</td>\n",
       "      <td>104</td>\n",
       "    </tr>\n",
       "  </tbody>\n",
       "</table>\n",
       "</div>"
      ],
      "text/plain": [
       "     percent_flow  days\n",
       "99             21   100\n",
       "100            21   101\n",
       "101            21   102\n",
       "102            19   103\n",
       "103            19   104"
      ]
     },
     "execution_count": 4,
     "metadata": {},
     "output_type": "execute_result"
    }
   ],
   "source": [
    "pipe_1.tail()"
   ]
  },
  {
   "cell_type": "code",
   "execution_count": 42,
   "metadata": {},
   "outputs": [
    {
     "data": {
      "text/plain": [
       "<matplotlib.collections.PathCollection at 0x1c1c7eb1d0>"
      ]
     },
     "execution_count": 42,
     "metadata": {},
     "output_type": "execute_result"
    },
    {
     "data": {
      "image/png": "[encoded data removed]",
      "text/plain": [
       "<Figure size 432x288 with 1 Axes>"
      ]
     },
     "metadata": {
      "needs_background": "light"
     },
     "output_type": "display_data"
    }
   ],
   "source": [
    "plt.scatter(pipe_1.days, pipe_1.percent_flow)"
   ]
  },
  {
   "cell_type": "code",
   "execution_count": 34,
   "metadata": {},
   "outputs": [
    {
     "name": "stdout",
     "output_type": "stream",
     "text": [
      "The model performance for the training set\n",
      "-------------------------------------------\n",
      "RMSE of training set is 1.9142031293521142\n",
      "R2 score of training set is 0.9902832095227914\n",
      "The model performance for the test set\n",
      "-------------------------------------------\n",
      "RMSE of test set is 2.2666476073730912\n",
      "R2 score of test set is 0.5110656243374017\n",
      "    days  percent_flow  percent_flow_pred\n",
      "0     84            30          31.223768\n",
      "1     85            30          30.403682\n",
      "2     86            28          29.583279\n",
      "3     87            28          28.762557\n",
      "4     88            27          27.941518\n",
      "5     89            27          27.120161\n",
      "6     90            26          26.298487\n",
      "7     91            26          25.476494\n",
      "8     92            26          24.654184\n",
      "9     93            25          23.831556\n",
      "10    94            24          23.008610\n",
      "11    95            23          22.185346\n",
      "12    96            23          21.361764\n",
      "13    97            23          20.537865\n",
      "14    98            22          19.713648\n",
      "15    99            22          18.889112\n",
      "16   100            21          18.064259\n",
      "17   101            21          17.239089\n",
      "18   102            21          16.413600\n",
      "19   103            19          15.587794\n",
      "20   104            19          14.761670\n"
     ]
    }
   ],
   "source": [
    "poly_regression(pipe_1, .8)"
   ]
  },
  {
   "cell_type": "code",
   "execution_count": 9,
   "metadata": {},
   "outputs": [],
   "source": [
    "pipe_2 = create_pipe_data(76)"
   ]
  },
  {
   "cell_type": "code",
   "execution_count": 43,
   "metadata": {},
   "outputs": [
    {
     "data": {
      "text/plain": [
       "<matplotlib.collections.PathCollection at 0x1c1c8a2470>"
      ]
     },
     "execution_count": 43,
     "metadata": {},
     "output_type": "execute_result"
    },
    {
     "data": {
      "image/png": "[encoded data removed]",
      "text/plain": [
       "<Figure size 432x288 with 1 Axes>"
      ]
     },
     "metadata": {
      "needs_background": "light"
     },
     "output_type": "display_data"
    }
   ],
   "source": [
    "plt.scatter(pipe_2.days, pipe_2.percent_flow)"
   ]
  },
  {
   "cell_type": "code",
   "execution_count": 35,
   "metadata": {},
   "outputs": [
    {
     "name": "stdout",
     "output_type": "stream",
     "text": [
      "The model performance for the training set\n",
      "-------------------------------------------\n",
      "RMSE of training set is 2.4078327380154443\n",
      "R2 score of training set is 0.9850247639053422\n",
      "The model performance for the test set\n",
      "-------------------------------------------\n",
      "RMSE of test set is 1.6915147901634293\n",
      "R2 score of test set is 0.9254100911356968\n",
      "    days  percent_flow  percent_flow_pred\n",
      "0     61            38          34.856955\n",
      "1     62            36          33.735827\n",
      "2     63            36          32.614909\n",
      "3     64            33          31.494201\n",
      "4     65            32          30.373701\n",
      "5     66            29          29.253411\n",
      "6     67            29          28.133331\n",
      "7     68            28          27.013460\n",
      "8     69            28          25.893798\n",
      "9     70            26          24.774346\n",
      "10    71            22          23.655103\n",
      "11    72            22          22.536069\n",
      "12    73            20          21.417245\n",
      "13    74            20          20.298630\n",
      "14    75            20          19.180225\n",
      "15    76            19          18.062029\n"
     ]
    }
   ],
   "source": [
    "poly_regression(pipe_2, .8)"
   ]
  },
  {
   "cell_type": "code",
   "execution_count": 36,
   "metadata": {},
   "outputs": [],
   "source": [
    "pipe_3 = create_pipe_data(142)"
   ]
  },
  {
   "cell_type": "code",
   "execution_count": 44,
   "metadata": {},
   "outputs": [
    {
     "data": {
      "text/plain": [
       "<matplotlib.collections.PathCollection at 0x1c1c95ea58>"
      ]
     },
     "execution_count": 44,
     "metadata": {},
     "output_type": "execute_result"
    },
    {
     "data": {
      "image/png": "[encoded data removed]",
      "text/plain": [
       "<Figure size 432x288 with 1 Axes>"
      ]
     },
     "metadata": {
      "needs_background": "light"
     },
     "output_type": "display_data"
    }
   ],
   "source": [
    "plt.scatter(pipe_3.days, pipe_3.percent_flow)"
   ]
  },
  {
   "cell_type": "code",
   "execution_count": 37,
   "metadata": {},
   "outputs": [
    {
     "name": "stdout",
     "output_type": "stream",
     "text": [
      "The model performance for the training set\n",
      "-------------------------------------------\n",
      "RMSE of training set is 1.2722576355341089\n",
      "R2 score of training set is 0.9958325706243537\n",
      "The model performance for the test set\n",
      "-------------------------------------------\n",
      "RMSE of test set is 1.716409420548654\n",
      "R2 score of test set is 0.8646691308490602\n",
      "    days  percent_flow  percent_flow_pred\n",
      "0    114            37          35.390277\n",
      "1    115            35          34.867502\n",
      "2    116            33          34.346115\n",
      "3    117            33          33.826115\n",
      "4    118            32          33.307504\n",
      "5    119            32          32.790281\n",
      "6    120            31          32.274445\n",
      "7    121            29          31.759998\n",
      "8    122            29          31.246939\n",
      "9    123            29          30.735267\n",
      "10   124            28          30.224984\n",
      "11   125            28          29.716088\n",
      "12   126            27          29.208581\n",
      "13   127            27          28.702462\n",
      "14   128            26          28.197730\n",
      "15   129            26          27.694387\n",
      "16   130            26          27.192431\n",
      "17   131            25          26.691864\n",
      "18   132            25          26.192684\n",
      "19   133            24          25.694893\n",
      "20   134            24          25.198490\n",
      "21   135            24          24.703474\n",
      "22   136            23          24.209847\n",
      "23   137            22          23.717607\n",
      "24   138            22          23.226756\n",
      "25   139            21          22.737292\n",
      "26   140            20          22.249217\n",
      "27   141            19          21.762529\n",
      "28   142            19          21.277230\n"
     ]
    }
   ],
   "source": [
    "poly_regression(pipe_3, .8)"
   ]
  },
  {
   "cell_type": "code",
   "execution_count": 48,
   "metadata": {},
   "outputs": [],
   "source": [
    "pipe_4 = create_pipe_data(211)"
   ]
  },
  {
   "cell_type": "code",
   "execution_count": 49,
   "metadata": {},
   "outputs": [
    {
     "data": {
      "text/plain": [
       "<matplotlib.collections.PathCollection at 0x1c1cb43940>"
      ]
     },
     "execution_count": 49,
     "metadata": {},
     "output_type": "execute_result"
    },
    {
     "data": {
      "image/png": "[encoded data removed]",
      "text/plain": [
       "<Figure size 432x288 with 1 Axes>"
      ]
     },
     "metadata": {
      "needs_background": "light"
     },
     "output_type": "display_data"
    }
   ],
   "source": [
    "plt.scatter(pipe_4.days, pipe_4.percent_flow)"
   ]
  },
  {
   "cell_type": "code",
   "execution_count": 50,
   "metadata": {},
   "outputs": [
    {
     "name": "stdout",
     "output_type": "stream",
     "text": [
      "The model performance for the training set\n",
      "-------------------------------------------\n",
      "RMSE of training set is 0.8689849641856129\n",
      "R2 score of training set is 0.997854087461075\n",
      "The model performance for the test set\n",
      "-------------------------------------------\n",
      "RMSE of test set is 1.2309609393438081\n",
      "R2 score of test set is 0.9450900619626517\n",
      "    days  percent_flow  percent_flow_pred\n",
      "0    169            37          36.456392\n",
      "1    170            36          36.086207\n",
      "2    171            35          35.716213\n",
      "3    172            34          35.346409\n",
      "4    173            34          34.976795\n",
      "5    174            34          34.607372\n",
      "6    175            34          34.238139\n",
      "7    176            34          33.869096\n",
      "8    177            34          33.500244\n",
      "9    178            33          33.131583\n",
      "10   179            33          32.763111\n",
      "11   180            33          32.394831\n",
      "12   181            33          32.026740\n",
      "13   182            32          31.658840\n",
      "14   183            32          31.291131\n",
      "15   184            31          30.923612\n",
      "16   185            31          30.556283\n",
      "17   186            30          30.189145\n",
      "18   187            30          29.822197\n",
      "19   188            30          29.455439\n",
      "20   189            30          29.088872\n",
      "21   190            30          28.722496\n",
      "22   191            30          28.356309\n",
      "23   192            29          27.990314\n",
      "24   193            28          27.624508\n",
      "25   194            28          27.258893\n",
      "26   195            28          26.893469\n",
      "27   196            27          26.528235\n",
      "28   197            27          26.163191\n",
      "29   198            26          25.798338\n",
      "30   199            26          25.433675\n",
      "31   200            24          25.069203\n",
      "32   201            24          24.704921\n",
      "33   202            23          24.340829\n",
      "34   203            22          23.976928\n",
      "35   204            22          23.613217\n",
      "36   205            21          23.249697\n",
      "37   206            21          22.886367\n",
      "38   207            21          22.523227\n",
      "39   208            19          22.160278\n",
      "40   209            19          21.797519\n",
      "41   210            19          21.434951\n",
      "42   211            19          21.072573\n"
     ]
    }
   ],
   "source": [
    "poly_regression(pipe_4, .8)"
   ]
  },
  {
   "cell_type": "code",
   "execution_count": 57,
   "metadata": {},
   "outputs": [],
   "source": [
    "pipe_5 = create_pipe_data(21)"
   ]
  },
  {
   "cell_type": "code",
   "execution_count": 58,
   "metadata": {},
   "outputs": [
    {
     "data": {
      "text/plain": [
       "<matplotlib.collections.PathCollection at 0x1c1cd33940>"
      ]
     },
     "execution_count": 58,
     "metadata": {},
     "output_type": "execute_result"
    },
    {
     "data": {
      "image/png": "[encoded data removed]",
      "text/plain": [
       "<Figure size 432x288 with 1 Axes>"
      ]
     },
     "metadata": {
      "needs_background": "light"
     },
     "output_type": "display_data"
    }
   ],
   "source": [
    "plt.scatter(pipe_5.days, pipe_5.percent_flow)"
   ]
  },
  {
   "cell_type": "code",
   "execution_count": 59,
   "metadata": {},
   "outputs": [
    {
     "name": "stdout",
     "output_type": "stream",
     "text": [
      "The model performance for the training set\n",
      "-------------------------------------------\n",
      "RMSE of training set is 5.46691971172559\n",
      "R2 score of training set is 0.9411886141739932\n",
      "The model performance for the test set\n",
      "-------------------------------------------\n",
      "RMSE of test set is 1.98862737606399\n",
      "R2 score of test set is 0.6107638936189812\n",
      "   days  percent_flow  percent_flow_pred\n",
      "0    17            30          31.517857\n",
      "1    18            26          28.877101\n",
      "2    19            25          26.467437\n",
      "3    20            22          24.288866\n",
      "4    21            21          22.341387\n"
     ]
    }
   ],
   "source": [
    "poly_regression(pipe_5, .8)"
   ]
  },
  {
   "cell_type": "code",
   "execution_count": null,
   "metadata": {},
   "outputs": [],
   "source": []
  },
  {
   "cell_type": "code",
   "execution_count": null,
   "metadata": {},
   "outputs": [],
   "source": []
  },
  {
   "cell_type": "code",
   "execution_count": null,
   "metadata": {},
   "outputs": [],
   "source": []
  },
  {
   "cell_type": "code",
   "execution_count": null,
   "metadata": {},
   "outputs": [],
   "source": []
  },
  {
   "cell_type": "code",
   "execution_count": null,
   "metadata": {},
   "outputs": [],
   "source": []
  },
  {
   "cell_type": "code",
   "execution_count": null,
   "metadata": {},
   "outputs": [],
   "source": []
  },
  {
   "cell_type": "code",
   "execution_count": null,
   "metadata": {},
   "outputs": [],
   "source": []
  },
  {
   "cell_type": "code",
   "execution_count": null,
   "metadata": {},
   "outputs": [],
   "source": []
  },
  {
   "cell_type": "code",
   "execution_count": null,
   "metadata": {},
   "outputs": [],
   "source": []
  },
  {
   "cell_type": "code",
   "execution_count": null,
   "metadata": {},
   "outputs": [],
   "source": []
  },
  {
   "cell_type": "code",
   "execution_count": null,
   "metadata": {},
   "outputs": [],
   "source": []
  }
 ],
 "metadata": {
  "kernelspec": {
   "display_name": "Python 3",
   "language": "python",
   "name": "python3"
  },
  "language_info": {
   "codemirror_mode": {
    "name": "ipython",
    "version": 3
   },
   "file_extension": ".py",
   "mimetype": "text/x-python",
   "name": "python",
   "nbconvert_exporter": "python",
   "pygments_lexer": "ipython3",
   "version": "3.7.1"
  }
 },
 "nbformat": 4,
 "nbformat_minor": 2
}
